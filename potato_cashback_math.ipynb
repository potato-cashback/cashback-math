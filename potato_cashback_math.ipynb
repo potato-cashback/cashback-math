{
  "nbformat": 4,
  "nbformat_minor": 0,
  "metadata": {
    "colab": {
      "name": "potato cashback math.ipynb",
      "provenance": [],
      "collapsed_sections": [
        "BPoxnFpUXL1A",
        "y2TSTZ_Y1xLz"
      ],
      "authorship_tag": "ABX9TyMdC2AsqjGkmUyMO1HmtMU0",
      "include_colab_link": true
    },
    "kernelspec": {
      "display_name": "Python 3",
      "name": "python3"
    },
    "language_info": {
      "name": "python"
    }
  },
  "cells": [
    {
      "cell_type": "markdown",
      "metadata": {
        "id": "view-in-github",
        "colab_type": "text"
      },
      "source": [
        "<a href=\"https://colab.research.google.com/github/nomomon/potato-cashback-math/blob/main/potato_cashback_math.ipynb\" target=\"_parent\"><img src=\"https://colab.research.google.com/assets/colab-badge.svg\" alt=\"Open In Colab\"/></a>"
      ]
    },
    {
      "cell_type": "code",
      "metadata": {
        "id": "E2_BRKITA_Xe"
      },
      "source": [
        "import numpy as np\n",
        "import matplotlib.pyplot as plt\n",
        "import scipy.stats\n",
        "import pandas as pd"
      ],
      "execution_count": 70,
      "outputs": []
    },
    {
      "cell_type": "markdown",
      "metadata": {
        "id": "BPoxnFpUXL1A"
      },
      "source": [
        "# Анализ данных"
      ]
    },
    {
      "cell_type": "code",
      "metadata": {
        "id": "xR-WlbSEXLgR"
      },
      "source": [
        "data = {\n",
        "    'frequency': [1, 12, 1, 1, 1, 4, 12, 30, 1, 30, 12, 30, 30, 8, 1, 1, 30, 1, 1, 4],\n",
        "    'sum':[500, 350, 330, 250, 200, 300, 700, 3000, 350, 2000, 600, 90, 600, 240, 200, 400, 550, 960, 800, 400]\n",
        "}\n",
        "\n",
        "df = pd.DataFrame(data)"
      ],
      "execution_count": 75,
      "outputs": []
    },
    {
      "cell_type": "code",
      "metadata": {
        "colab": {
          "base_uri": "https://localhost:8080/",
          "height": 297
        },
        "id": "e4kbV1nJLppW",
        "outputId": "d09b9eae-e1c9-4232-800a-e34e8928f3a7"
      },
      "source": [
        "df.describe()"
      ],
      "execution_count": 77,
      "outputs": [
        {
          "output_type": "execute_result",
          "data": {
            "text/html": [
              "<div>\n",
              "<style scoped>\n",
              "    .dataframe tbody tr th:only-of-type {\n",
              "        vertical-align: middle;\n",
              "    }\n",
              "\n",
              "    .dataframe tbody tr th {\n",
              "        vertical-align: top;\n",
              "    }\n",
              "\n",
              "    .dataframe thead th {\n",
              "        text-align: right;\n",
              "    }\n",
              "</style>\n",
              "<table border=\"1\" class=\"dataframe\">\n",
              "  <thead>\n",
              "    <tr style=\"text-align: right;\">\n",
              "      <th></th>\n",
              "      <th>frequency</th>\n",
              "      <th>sum</th>\n",
              "    </tr>\n",
              "  </thead>\n",
              "  <tbody>\n",
              "    <tr>\n",
              "      <th>count</th>\n",
              "      <td>20.000000</td>\n",
              "      <td>20.000000</td>\n",
              "    </tr>\n",
              "    <tr>\n",
              "      <th>mean</th>\n",
              "      <td>10.550000</td>\n",
              "      <td>641.000000</td>\n",
              "    </tr>\n",
              "    <tr>\n",
              "      <th>std</th>\n",
              "      <td>12.163254</td>\n",
              "      <td>691.245253</td>\n",
              "    </tr>\n",
              "    <tr>\n",
              "      <th>min</th>\n",
              "      <td>1.000000</td>\n",
              "      <td>90.000000</td>\n",
              "    </tr>\n",
              "    <tr>\n",
              "      <th>25%</th>\n",
              "      <td>1.000000</td>\n",
              "      <td>287.500000</td>\n",
              "    </tr>\n",
              "    <tr>\n",
              "      <th>50%</th>\n",
              "      <td>4.000000</td>\n",
              "      <td>400.000000</td>\n",
              "    </tr>\n",
              "    <tr>\n",
              "      <th>75%</th>\n",
              "      <td>16.500000</td>\n",
              "      <td>625.000000</td>\n",
              "    </tr>\n",
              "    <tr>\n",
              "      <th>max</th>\n",
              "      <td>30.000000</td>\n",
              "      <td>3000.000000</td>\n",
              "    </tr>\n",
              "  </tbody>\n",
              "</table>\n",
              "</div>"
            ],
            "text/plain": [
              "       frequency          sum\n",
              "count  20.000000    20.000000\n",
              "mean   10.550000   641.000000\n",
              "std    12.163254   691.245253\n",
              "min     1.000000    90.000000\n",
              "25%     1.000000   287.500000\n",
              "50%     4.000000   400.000000\n",
              "75%    16.500000   625.000000\n",
              "max    30.000000  3000.000000"
            ]
          },
          "metadata": {
            "tags": []
          },
          "execution_count": 77
        }
      ]
    },
    {
      "cell_type": "code",
      "metadata": {
        "colab": {
          "base_uri": "https://localhost:8080/",
          "height": 297
        },
        "id": "3ain_ZepL8lv",
        "outputId": "29dc0fbd-9bc4-4bb5-f4ab-c16b59e6994c"
      },
      "source": [
        "locals = df[df['frequency'] > 1]\n",
        "\n",
        "locals.describe()"
      ],
      "execution_count": 129,
      "outputs": [
        {
          "output_type": "execute_result",
          "data": {
            "text/html": [
              "<div>\n",
              "<style scoped>\n",
              "    .dataframe tbody tr th:only-of-type {\n",
              "        vertical-align: middle;\n",
              "    }\n",
              "\n",
              "    .dataframe tbody tr th {\n",
              "        vertical-align: top;\n",
              "    }\n",
              "\n",
              "    .dataframe thead th {\n",
              "        text-align: right;\n",
              "    }\n",
              "</style>\n",
              "<table border=\"1\" class=\"dataframe\">\n",
              "  <thead>\n",
              "    <tr style=\"text-align: right;\">\n",
              "      <th></th>\n",
              "      <th>frequency</th>\n",
              "      <th>sum</th>\n",
              "    </tr>\n",
              "  </thead>\n",
              "  <tbody>\n",
              "    <tr>\n",
              "      <th>count</th>\n",
              "      <td>11.000000</td>\n",
              "      <td>11.000000</td>\n",
              "    </tr>\n",
              "    <tr>\n",
              "      <th>mean</th>\n",
              "      <td>18.363636</td>\n",
              "      <td>802.727273</td>\n",
              "    </tr>\n",
              "    <tr>\n",
              "      <th>std</th>\n",
              "      <td>11.482793</td>\n",
              "      <td>886.714057</td>\n",
              "    </tr>\n",
              "    <tr>\n",
              "      <th>min</th>\n",
              "      <td>4.000000</td>\n",
              "      <td>90.000000</td>\n",
              "    </tr>\n",
              "    <tr>\n",
              "      <th>25%</th>\n",
              "      <td>10.000000</td>\n",
              "      <td>325.000000</td>\n",
              "    </tr>\n",
              "    <tr>\n",
              "      <th>50%</th>\n",
              "      <td>12.000000</td>\n",
              "      <td>550.000000</td>\n",
              "    </tr>\n",
              "    <tr>\n",
              "      <th>75%</th>\n",
              "      <td>30.000000</td>\n",
              "      <td>650.000000</td>\n",
              "    </tr>\n",
              "    <tr>\n",
              "      <th>max</th>\n",
              "      <td>30.000000</td>\n",
              "      <td>3000.000000</td>\n",
              "    </tr>\n",
              "  </tbody>\n",
              "</table>\n",
              "</div>"
            ],
            "text/plain": [
              "       frequency          sum\n",
              "count  11.000000    11.000000\n",
              "mean   18.363636   802.727273\n",
              "std    11.482793   886.714057\n",
              "min     4.000000    90.000000\n",
              "25%    10.000000   325.000000\n",
              "50%    12.000000   550.000000\n",
              "75%    30.000000   650.000000\n",
              "max    30.000000  3000.000000"
            ]
          },
          "metadata": {
            "tags": []
          },
          "execution_count": 129
        }
      ]
    },
    {
      "cell_type": "code",
      "metadata": {
        "colab": {
          "base_uri": "https://localhost:8080/",
          "height": 282
        },
        "id": "H8yjQjiRM4l1",
        "outputId": "588c14d2-9259-4598-8fe9-55855b7272df"
      },
      "source": [
        "locals['frequency'].plot.kde()"
      ],
      "execution_count": 127,
      "outputs": [
        {
          "output_type": "execute_result",
          "data": {
            "text/plain": [
              "<matplotlib.axes._subplots.AxesSubplot at 0x7f12fa04f290>"
            ]
          },
          "metadata": {
            "tags": []
          },
          "execution_count": 127
        },
        {
          "output_type": "display_data",
          "data": {
            "image/png": "[encoded data removed]",
            "text/plain": [
              "<Figure size 432x288 with 1 Axes>"
            ]
          },
          "metadata": {
            "tags": [],
            "needs_background": "light"
          }
        }
      ]
    },
    {
      "cell_type": "code",
      "metadata": {
        "colab": {
          "base_uri": "https://localhost:8080/",
          "height": 282
        },
        "id": "6xy65i-FQYnH",
        "outputId": "b11ac9ef-197a-4793-b94d-886c5807f289"
      },
      "source": [
        "locals['sum'].plot.kde()"
      ],
      "execution_count": 128,
      "outputs": [
        {
          "output_type": "execute_result",
          "data": {
            "text/plain": [
              "<matplotlib.axes._subplots.AxesSubplot at 0x7f12f9e99fd0>"
            ]
          },
          "metadata": {
            "tags": []
          },
          "execution_count": 128
        },
        {
          "output_type": "display_data",
          "data": {
            "image/png": "[encoded data removed]",
            "text/plain": [
              "<Figure size 432x288 with 1 Axes>"
            ]
          },
          "metadata": {
            "tags": [],
            "needs_background": "light"
          }
        }
      ]
    },
    {
      "cell_type": "markdown",
      "metadata": {
        "id": "6cp4qpRoScYV"
      },
      "source": [
        "# Опредиление вероятности конечного кэшбека\n",
        "\n"
      ]
    },
    {
      "cell_type": "markdown",
      "metadata": {
        "id": "q_LaMevrSxQf"
      },
      "source": [
        "Опеределим вероятность кэшбека с одной покупки"
      ]
    },
    {
      "cell_type": "code",
      "metadata": {
        "id": "_CfkyJbHSu1v"
      },
      "source": [
        "purchaseDistribution = scipy.stats.norm(458.6, 266.6)\n",
        "\n",
        "maxPurchase = 3000\n",
        "maxCashback = int(maxPurchase * 0.11)\n",
        "cashbackProbability = [0] * maxCashback\n",
        "\n",
        "for purchase in range(maxPurchase):\n",
        "    if purchase < 600:\n",
        "        cashback = purchase * 0.01\n",
        "    elif purchase < 800:\n",
        "        cashback = purchase * 0.06\n",
        "    else:\n",
        "        cashback = purchase * 0.11\n",
        "\n",
        "    cashback = int(cashback)\n",
        "\n",
        "    cashbackProbability[cashback] += purchaseDistribution.pdf(purchase)"
      ],
      "execution_count": 145,
      "outputs": []
    },
    {
      "cell_type": "code",
      "metadata": {
        "colab": {
          "base_uri": "https://localhost:8080/",
          "height": 282
        },
        "id": "oH1lELD1T0vJ",
        "outputId": "a5630737-2937-42d1-9a28-8b1fa11985b7"
      },
      "source": [
        "plt.bar(range(maxCashback), cashbackProbability, width = 1)"
      ],
      "execution_count": 146,
      "outputs": [
        {
          "output_type": "execute_result",
          "data": {
            "text/plain": [
              "<BarContainer object of 330 artists>"
            ]
          },
          "metadata": {
            "tags": []
          },
          "execution_count": 146
        },
        {
          "output_type": "display_data",
          "data": {
            "image/png": "[encoded data removed]",
            "text/plain": [
              "<Figure size 432x288 with 1 Axes>"
            ]
          },
          "metadata": {
            "tags": [],
            "needs_background": "light"
          }
        }
      ]
    },
    {
      "cell_type": "code",
      "metadata": {
        "id": "GI6RNdoYvYnQ"
      },
      "source": [
        "n = 1000000\n",
        "\n",
        "if coefArray == None:\n",
        "    coefArray = []\n",
        "\n",
        "for i in range(n):\n",
        "    s = 0\n",
        "    for j in purchaseDistribution.rvs(size=12):\n",
        "        if j < 600:\n",
        "            s += j * 0.01\n",
        "        elif j < 800:\n",
        "            s += j * 0.06\n",
        "        else:\n",
        "            s += j * 0.11\n",
        "    coefArray.append(int(s))\n",
        "\n",
        "if not 0 in coefArray:\n",
        "    coefArray.append(0)"
      ],
      "execution_count": 175,
      "outputs": []
    },
    {
      "cell_type": "code",
      "metadata": {
        "colab": {
          "base_uri": "https://localhost:8080/",
          "height": 265
        },
        "id": "t9elnY1uzadY",
        "outputId": "946e760c-5bc4-401e-ad02-15241b054ce1"
      },
      "source": [
        "from matplotlib import pyplot as plt\n",
        "freq, x, bins = plt.hist(coefArray, bins = max(coefArray) - min(coefArray))\n",
        "\n",
        "prob = freq / len(coefArray)"
      ],
      "execution_count": 176,
      "outputs": [
        {
          "output_type": "display_data",
          "data": {
            "image/png": "[encoded data removed]",
            "text/plain": [
              "<Figure size 432x288 with 1 Axes>"
            ]
          },
          "metadata": {
            "tags": [],
            "needs_background": "light"
          }
        }
      ]
    },
    {
      "cell_type": "code",
      "metadata": {
        "colab": {
          "base_uri": "https://localhost:8080/"
        },
        "id": "lPTX23jDQ2CT",
        "outputId": "f07285e8-7c53-4956-aaa6-0ef8a4b68260"
      },
      "source": [
        "expectedValue = 0\n",
        "\n",
        "for i in range(len(prob)):\n",
        "    expectedValue += x[i] * prob[i]\n",
        "\n",
        "expectedValue # of cashback per person"
      ],
      "execution_count": 177,
      "outputs": [
        {
          "output_type": "execute_result",
          "data": {
            "text/plain": [
              "247.6003657280669"
            ]
          },
          "metadata": {
            "tags": []
          },
          "execution_count": 177
        }
      ]
    },
    {
      "cell_type": "code",
      "metadata": {
        "id": "XFXykEGnXvnb"
      },
      "source": [
        "def coef(i):\n",
        "    if i < len(prob):\n",
        "        return prob[i] \n",
        "    else:\n",
        "        return 0"
      ],
      "execution_count": 178,
      "outputs": []
    },
    {
      "cell_type": "markdown",
      "metadata": {
        "id": "NngROMRU11-f"
      },
      "source": [
        "# Опредиление \"оптимальных\" цен"
      ]
    },
    {
      "cell_type": "markdown",
      "metadata": {
        "id": "Lri4KLmWVPC_"
      },
      "source": [
        "Зададим какие предметы есть в магазине"
      ]
    },
    {
      "cell_type": "code",
      "metadata": {
        "id": "iUe1d49b8Zsm"
      },
      "source": [
        "items = {\n",
        "    'onay': {\n",
        "        'price': 100,\n",
        "        'limit': 1,\n",
        "    },\n",
        "    'tele': {\n",
        "        'price': 100,\n",
        "        'limit': 1,\n",
        "    },\n",
        "    'drink': {\n",
        "        'price': 200,\n",
        "        'limit': 2,\n",
        "    },\n",
        "    'chips': {\n",
        "        'price': 300,\n",
        "        'limit': 2,\n",
        "    },\n",
        "    'snikers': {\n",
        "        'price': 150,\n",
        "        'limit': 2,\n",
        "    },\n",
        "    'gum': {\n",
        "        'price': 200,\n",
        "        'limit': 2,\n",
        "    },\n",
        "    'barni': {\n",
        "        'price': 150,\n",
        "        'limit': 1,\n",
        "    },\n",
        "    'monster': {\n",
        "        'price': 500,\n",
        "        'limit': 1,\n",
        "    },\n",
        "    'nescafe': {\n",
        "        'price': 100,\n",
        "        'limit': 1,\n",
        "    },\n",
        "    'nescafe': {\n",
        "        'price': 100,\n",
        "        'limit': 1,\n",
        "    },\n",
        "    'nescafe': {\n",
        "        'price': 100,\n",
        "        'limit': 1,\n",
        "    },\n",
        "    'bubbles': {\n",
        "        'price': 100,\n",
        "        'limit': 1,\n",
        "    },\n",
        "    'masks': {\n",
        "        'price': 100,\n",
        "        'limit': 1,\n",
        "    },\n",
        "    'prokladki': {\n",
        "        'price': 350,\n",
        "        'limit': 1,\n",
        "    },\n",
        "    'cable': {\n",
        "        'price': 700,\n",
        "        'limit': 1,\n",
        "    },\n",
        "    'toiletpaper': {\n",
        "        'price': 700,\n",
        "        'limit': 1,\n",
        "    },\n",
        "}"
      ],
      "execution_count": 125,
      "outputs": []
    },
    {
      "cell_type": "code",
      "metadata": {
        "id": "3t-dWDN211t0"
      },
      "source": [
        "def MAX_PURCHASE(cashback = 500, itemTree = items, MAX_CASHBACK = 10000):\n",
        "    dp = [None] * MAX_CASHBACK\n",
        "    dp[0] = {t:itemTree[t]['limit'] for t in itemTree}\n",
        "\n",
        "    max_i = 0\n",
        "    goodies = []\n",
        "\n",
        "    for tag in itemTree:\n",
        "        item = itemTree[tag]\n",
        "        \n",
        "        for i in range(MAX_CASHBACK):\n",
        "            if dp[i] is None:\n",
        "                continue\n",
        "            item_stock = dp[i].copy()\n",
        "            if item_stock[tag] == 0:\n",
        "                continue\n",
        "            item_stock[tag] -= 1\n",
        "            # if dp[i + item['price']] is None:\n",
        "            dp[i + item['price']] = item_stock\n",
        "\n",
        "    for i in range(MAX_CASHBACK):\n",
        "        if dp[i] is None:\n",
        "            continue\n",
        "\n",
        "        goodies.append(i)\n",
        "\n",
        "    return goodies\n",
        "\n",
        "# MAX_PURCHASE(500)"
      ],
      "execution_count": null,
      "outputs": []
    },
    {
      "cell_type": "code",
      "metadata": {
        "id": "wWhBACF1DK8R",
        "colab": {
          "base_uri": "https://localhost:8080/"
        },
        "outputId": "92b9707f-0394-40a3-8c02-8ce23814df5e"
      },
      "source": [
        "def wellness_of_costs(arr, itemTree):\n",
        "    prev = 1\n",
        "\n",
        "    sum = 0\n",
        "    denomSum = 0\n",
        "    \n",
        "    for i in range(50, 1500):\n",
        "        if i > arr[prev]:\n",
        "            prev = prev + 1\n",
        "        sum += (i - arr[prev - 1]) * coef(i)\n",
        "        denomSum += coef(i)\n",
        "            \n",
        "    return sum / denomSum\n",
        "\n",
        "maxUnusable = wellness_of_costs(MAX_PURCHASE(itemTree = items), items)\n",
        "maxUnusable"
      ],
      "execution_count": 179,
      "outputs": [
        {
          "output_type": "execute_result",
          "data": {
            "text/plain": [
              "27.308275496275908"
            ]
          },
          "metadata": {
            "tags": []
          },
          "execution_count": 179
        }
      ]
    },
    {
      "cell_type": "code",
      "metadata": {
        "id": "ZO_lDI2DGX4P"
      },
      "source": [
        "well = 0\n",
        "well_items = 0\n",
        "\n",
        "for onayPrice in range(95, 105):\n",
        "    for telePrice in range(95, 105):\n",
        "        for drinkPrice in range(195, 205):\n",
        "            for chipsPrice in range(295, 305):\n",
        "                for snikersPrice in range(150, 151):\n",
        "                    for gumPrice in range(150, 151):\n",
        "                        items = {\n",
        "                            'onay': {\n",
        "                                'price': onayPrice,\n",
        "                                'limit': 1,\n",
        "                            },\n",
        "                            'tele': {\n",
        "                                'price': telePrice,\n",
        "                                'limit': 1,\n",
        "                            },\n",
        "                            'monster': {\n",
        "                                'price': monsterPrice,\n",
        "                                'limit': 1,\n",
        "                            },\n",
        "                            'tele': {\n",
        "                                'price': telePrice,\n",
        "                                'limit': 1,\n",
        "                            },\n",
        "                            'drink': {\n",
        "                                'price': drinkPrice,\n",
        "                                'limit': 2,\n",
        "                            },\n",
        "                            'chips': {\n",
        "                                'price': chipsPrice,\n",
        "                                'limit': 2,\n",
        "                            },\n",
        "                            'snikers': {\n",
        "                                'price': snikersPrice,\n",
        "                                'limit': 2,\n",
        "                            },\n",
        "                            'gum': {\n",
        "                                'price': gumPrice,\n",
        "                                'limit': 2,\n",
        "                            },\n",
        "                            'toy': {\n",
        "                                'price': 1250,\n",
        "                                'limit': 1,\n",
        "                            },\n",
        "                        }\n",
        "\n",
        "                        a = wellness_of_costs(MAX_PURCHASE(itemTree = items), items)\n",
        "\n",
        "                        if a > well:\n",
        "                            well = a\n",
        "                            well_items = items\n",
        "\n",
        "(well, well_items)"
      ],
      "execution_count": null,
      "outputs": []
    },
    {
      "cell_type": "markdown",
      "metadata": {
        "id": "8KLnfYUHSwi-"
      },
      "source": [
        "# Насколько мы в жопе"
      ]
    },
    {
      "cell_type": "code",
      "metadata": {
        "id": "8hKinlU8S2kp"
      },
      "source": [
        "budget = 5000"
      ],
      "execution_count": 165,
      "outputs": []
    },
    {
      "cell_type": "markdown",
      "metadata": {
        "id": "Beog5bzPS-xO"
      },
      "source": [
        "С таким бюджетом, мы можем поддерживать ..."
      ]
    },
    {
      "cell_type": "code",
      "metadata": {
        "colab": {
          "base_uri": "https://localhost:8080/"
        },
        "id": "46TnskMiTDWh",
        "outputId": "ab5143e6-9415-417d-ade6-6cf10d2ea608"
      },
      "source": [
        "print(int(budget / expectedValue), \"людей, если люди будут тратить все, что у них есть\")\n",
        "print('но они не смогут потратить все из-за нашей крутой системы.')\n",
        "print('Тогда', int(budget / (expectedValue - maxUnusable)), \"людей.\")"
      ],
      "execution_count": 180,
      "outputs": [
        {
          "output_type": "stream",
          "text": [
            "20 людей, если люди будут тратить все, что у них есть\n",
            "но они не смогут потратить все из-за нашей крутой системы.\n",
            "Тогда 22 людей.\n"
          ],
          "name": "stdout"
        }
      ]
    },
    {
      "cell_type": "markdown",
      "metadata": {
        "id": "y2TSTZ_Y1xLz"
      },
      "source": [
        "# Опредиление пределов кешбэка"
      ]
    },
    {
      "cell_type": "markdown",
      "metadata": {
        "id": "DUkIRSNJmMLZ"
      },
      "source": [
        "Наша задача это определить пределы $b_1, b_2$ в начисление кешбэка, такие что сумма всех начисленных кешбэков за месяц не превышает 5000 тг. \n",
        "\n",
        "$$5000 \\ge \\sum \\text{всех начисленных кешбэков} = $$\n",
        "$$= 1\\% \\sum_{P_{min} \\le P < b_1} P + 6\\% \\sum_{b_1 \\le P < b_2} P + 11\\% \\sum_{b_2 \\le P < P_{max}} P =$$\n",
        "\n",
        "Сумму всех начисленных кешбэков можно представить как произвидение суммы размера покупки и соответсвующего размера кешбэка.\n",
        "\n",
        "Возьмем, что $f_1, f_2$, и $f_3$ это соответсвующие частоты покупок за месяц (количество покупок из категории). Тогда, нашу сумму можно переписать как\n",
        "\n",
        "$$= 1\\% \\frac{\\sum_{P_{min} \\le P < b_1} P}{f_1} f_1 + 6\\% \\frac{\\sum_{b_1 \\le P < b_2} P}{f_2} f_2 + 11\\% \\frac{\\sum_{b_2 \\le P < P_{max}} P}{f_3} f_3=$$\n",
        "\n",
        "Заметим, что эти дроби это средний размер покупки в соотвующих категориях.\n",
        "\n",
        "$$= 1\\% \\bar{P_1} f_1 + 6\\%  \\bar{P_2} f_2 + 11\\% \\bar{P_3} f_3 \\approx$$\n",
        "\n",
        "Среднюю покупку можно приблезительно заменить на\n",
        "\n",
        "$$\\approx 1\\% \\frac{P_{min} + b_1}{2} f_1+ 6\\% \\frac{b_1 + b_2}{2} f_2 + 11\\% \\frac{b_2 + P_{max}}{2} f_3$$\n",
        "\n",
        "Количество покупок совершенных через систему будет $f_1 + f_2 + f_3$, тогда всего покупок за месяц $(f_1 + f_2 + f_3) / 20\\%$."
      ]
    },
    {
      "cell_type": "code",
      "metadata": {
        "id": "SttQK8Dxl_c7"
      },
      "source": [
        "TOTAL_CASHBACK = 5000"
      ],
      "execution_count": null,
      "outputs": []
    }
  ]
}